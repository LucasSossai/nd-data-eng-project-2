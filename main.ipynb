{
 "cells": [
  {
   "cell_type": "markdown",
   "source": [
    "# Part I. ETL Pipeline for Pre-Processing the Files"
   ],
   "metadata": {}
  },
  {
   "cell_type": "markdown",
   "source": [
    "## PLEASE RUN THE FOLLOWING CODE FOR PRE-PROCESSING THE FILES"
   ],
   "metadata": {}
  },
  {
   "cell_type": "markdown",
   "source": [
    "#### Import Python packages "
   ],
   "metadata": {}
  },
  {
   "cell_type": "code",
   "execution_count": 1,
   "source": [
    "import pandas as pd\n",
    "import cassandra\n",
    "import re\n",
    "import os\n",
    "import glob\n",
    "import numpy as np\n",
    "import json\n",
    "import csv"
   ],
   "outputs": [],
   "metadata": {}
  },
  {
   "cell_type": "markdown",
   "source": [
    "#### Creating list of filepaths to process original event csv data files"
   ],
   "metadata": {}
  },
  {
   "cell_type": "code",
   "execution_count": 2,
   "source": [
    "print(os.getcwd())\n",
    "\n",
    "filepath = os.getcwd() + '/event_data'\n",
    "\n",
    "for root, dirs, files in os.walk(filepath):\n",
    "    file_path_list = glob.glob(os.path.join(root,'*'))\n",
    "    # print(file_path_list)\n"
   ],
   "outputs": [
    {
     "output_type": "stream",
     "name": "stdout",
     "text": [
      "/home/lsossai/dev_pessoal/nd-data-eng-project-2\n"
     ]
    }
   ],
   "metadata": {}
  },
  {
   "cell_type": "markdown",
   "source": [
    "#### Processing the files to create the data file csv that will be used for Apache Casssandra tables"
   ],
   "metadata": {}
  },
  {
   "cell_type": "code",
   "execution_count": 3,
   "source": [
    "full_data_rows_list = [] \n",
    "\n",
    "for f in file_path_list:\n",
    "    with open(f, 'r', encoding = 'utf8', newline='') as csvfile: \n",
    "        csvreader = csv.reader(csvfile) \n",
    "        next(csvreader)\n",
    "     \n",
    "        for line in csvreader:\n",
    "            # print(line)\n",
    "            full_data_rows_list.append(line) \n",
    "            \n",
    "\n",
    "print(len(full_data_rows_list))\n",
    "# print(full_data_rows_list)\n",
    "\n",
    "csv.register_dialect('myDialect', quoting=csv.QUOTE_ALL, skipinitialspace=True)\n",
    "\n",
    "with open('event_datafile_new.csv', 'w', encoding = 'utf8', newline='') as f:\n",
    "    writer = csv.writer(f, dialect='myDialect')\n",
    "    writer.writerow(['artist','firstName','gender','itemInSession','lastName','length',\\\n",
    "                'level','location','sessionId','song','userId'])\n",
    "    for row in full_data_rows_list:\n",
    "        if (row[0] == ''):\n",
    "            continue\n",
    "        writer.writerow((row[0], row[2], row[3], row[4], row[5], row[6], row[7], row[8], row[12], row[13], row[16]))\n"
   ],
   "outputs": [
    {
     "output_type": "stream",
     "name": "stdout",
     "text": [
      "8056\n"
     ]
    }
   ],
   "metadata": {}
  },
  {
   "cell_type": "code",
   "execution_count": 4,
   "source": [
    "with open('event_datafile_new.csv', 'r', encoding = 'utf8') as f:\n",
    "    print(sum(1 for line in f))"
   ],
   "outputs": [
    {
     "output_type": "stream",
     "name": "stdout",
     "text": [
      "6821\n"
     ]
    }
   ],
   "metadata": {}
  },
  {
   "cell_type": "markdown",
   "source": [
    "# Part II. Complete the Apache Cassandra coding portion of your project. \n",
    "\n",
    "## Now you are ready to work with the CSV file titled <font color=red>event_datafile_new.csv</font>, located within the Workspace directory.  The event_datafile_new.csv contains the following columns: \n",
    "- artist \n",
    "- firstName of user\n",
    "- gender of user\n",
    "- item number in session\n",
    "- last name of user\n",
    "- length of the song\n",
    "- level (paid or free song)\n",
    "- location of the user\n",
    "- sessionId\n",
    "- song title\n",
    "- userId\n",
    "\n",
    "The image below is a screenshot of what the denormalized data should appear like in the <font color=red>**event_datafile_new.csv**</font> after the code above is run:<br>\n",
    "\n",
    "<img src=\"images/image_event_datafile_new.jpg\">"
   ],
   "metadata": {}
  },
  {
   "cell_type": "markdown",
   "source": [
    "## Begin writing your Apache Cassandra code in the cells below"
   ],
   "metadata": {}
  },
  {
   "cell_type": "markdown",
   "source": [
    "#### Creating a Cluster"
   ],
   "metadata": {}
  },
  {
   "cell_type": "code",
   "execution_count": 5,
   "source": [
    "from cassandra.cluster import Cluster\n",
    "cluster = Cluster()\n",
    "\n",
    "session = cluster.connect()"
   ],
   "outputs": [],
   "metadata": {}
  },
  {
   "cell_type": "markdown",
   "source": [
    "#### Create Keyspace"
   ],
   "metadata": {}
  },
  {
   "cell_type": "code",
   "execution_count": 6,
   "source": [
    "CASSANDRA_DB = \"sparkifydb\"\n",
    "REPLICATION_OPTIONS = {'class' : 'SimpleStrategy',\n",
    "                       'replication_factor': 1}\n",
    "CREATE_KEYSPACE_QUERY = f\"\"\"\n",
    "        CREATE KEYSPACE IF NOT EXISTS {CASSANDRA_DB}\n",
    "        WITH REPLICATION = {REPLICATION_OPTIONS}\n",
    "    \"\"\"\n",
    "    \n",
    "try:\n",
    "    session.execute(CREATE_KEYSPACE_QUERY)\n",
    "except Exception as e:\n",
    "    print (e)"
   ],
   "outputs": [],
   "metadata": {}
  },
  {
   "cell_type": "markdown",
   "source": [
    "#### Set Keyspace"
   ],
   "metadata": {}
  },
  {
   "cell_type": "code",
   "execution_count": 7,
   "source": [
    "try:\n",
    "    session.set_keyspace(CASSANDRA_DB)\n",
    "except Exception as e:\n",
    "    print (e)"
   ],
   "outputs": [],
   "metadata": {}
  },
  {
   "cell_type": "markdown",
   "source": [
    "### Now we need to create tables to run the following queries. Remember, with Apache Cassandra you model the database tables on the queries you want to run."
   ],
   "metadata": {}
  },
  {
   "cell_type": "markdown",
   "source": [
    "## Create queries to ask the following three questions of the data\n",
    "\n",
    "### 1. Give me the artist, song title and song's length in the music app history that was heard during  sessionId = 338, and itemInSession  = 4\n",
    "\n",
    "\n",
    "### 2. Give me only the following: name of artist, song (sorted by itemInSession) and user (first and last name) for userid = 10, sessionid = 182\n",
    "    \n",
    "\n",
    "### 3. Give me every user name (first and last) in my music app history who listened to the song 'All Hands Against His Own'\n",
    "\n",
    "\n"
   ],
   "metadata": {}
  },
  {
   "cell_type": "code",
   "execution_count": 8,
   "source": [
    "file = 'event_datafile_new.csv'\n",
    "\n",
    "ARTIST_COLUMN = 0\n",
    "FIRSTNAME_COLUMN = 1\n",
    "ITEMINSESSION_COLUMN = 3\n",
    "LASTNAME_COLUMN = 4\n",
    "LENGHT_COLUMN = 5\n",
    "SESSIONID_COLUMN = 8\n",
    "SONG_COLUMN = 9\n",
    "USERID_COLUMN = 10"
   ],
   "outputs": [],
   "metadata": {}
  },
  {
   "cell_type": "code",
   "execution_count": 9,
   "source": [
    "## Give me the artist, song title and song's length in the music app history that was heard during \\\n",
    "## sessionId = 338, and itemInSession = 4\n",
    "CREATE_TABLE_QUERY1 = \"\"\"CREATE TABLE IF NOT EXISTS session_item\n",
    "                      (\n",
    "                        sessionId     INT,\n",
    "                        itemInSession INT,\n",
    "                        artist        TEXT,\n",
    "                        song          TEXT,\n",
    "                        length        FLOAT,\n",
    "                        PRIMARY KEY (sessionId, itemInSession)\n",
    "                      ) \"\"\"\n",
    "  \n",
    "try:\n",
    "    session.execute(CREATE_TABLE_QUERY1)\n",
    "except Exception as e:\n",
    "    print(e)\n",
    "                    "
   ],
   "outputs": [],
   "metadata": {}
  },
  {
   "cell_type": "code",
   "execution_count": 10,
   "source": [
    "with open(file, encoding = 'utf8') as f:\n",
    "    csvreader = csv.reader(f)\n",
    "    next(csvreader)\n",
    "    for line in csvreader:\n",
    "        query = \"INSERT INTO session_item (sessionId, itemInSession, artist, song, length) \"\n",
    "        query += \" VALUES (%s, %s, %s, %s, %s) \"\n",
    "        session.execute(query, (int(line[SESSIONID_COLUMN]),\n",
    "                                int(line[ITEMINSESSION_COLUMN]),\n",
    "                                line[ARTIST_COLUMN], \n",
    "                                line[SONG_COLUMN], \n",
    "                                float(line[LENGHT_COLUMN])) )"
   ],
   "outputs": [],
   "metadata": {
    "scrolled": false
   }
  },
  {
   "cell_type": "markdown",
   "source": [
    "#### Do a SELECT to verify that the data have been inserted into each table"
   ],
   "metadata": {}
  },
  {
   "cell_type": "code",
   "execution_count": 11,
   "source": [
    "SELECT_QUERY1 = \"\"\"SELECT artist,\n",
    "                        song,\n",
    "                        length\n",
    "                   FROM   session_item\n",
    "                   WHERE  sessionId = 338\n",
    "                          AND itemInSession = 4 \"\"\"\n",
    "try:\n",
    "    rows = session.execute(SELECT_QUERY1)\n",
    "except Exception as e:\n",
    "    print(e)\n",
    "    \n",
    "for row in rows:\n",
    "    print(row)"
   ],
   "outputs": [
    {
     "output_type": "stream",
     "name": "stdout",
     "text": [
      "Row(artist='Faithless', song='Music Matters (Mark Knight Dub)', length=495.30731201171875)\n"
     ]
    }
   ],
   "metadata": {
    "scrolled": true
   }
  },
  {
   "cell_type": "code",
   "execution_count": 12,
   "source": [
    "## Query 2: Give me only the following: name of artist, song (sorted by itemInSession) and user (first and last name)\\\n",
    "## for userid = 10, sessionid = 182\n",
    "CREATE_TABLE_QUERY2 = \"\"\"CREATE TABLE IF NOT EXISTS user_session\n",
    "                      (\n",
    "                        userId        INT,\n",
    "                        sessionId     INT,\n",
    "                        artist        TEXT,\n",
    "                        song          TEXT,\n",
    "                        itemInSession INT,\n",
    "                        firstName     TEXT,\n",
    "                        lastName      TEXT,\n",
    "                        PRIMARY KEY ((sessionId, userId), itemInSession)\n",
    "                      ) \n",
    "                        WITH CLUSTERING ORDER BY (itemInSession ASC)\n",
    "                      \"\"\"\n",
    "  \n",
    "try:\n",
    "    session.execute(CREATE_TABLE_QUERY2)\n",
    "except Exception as e:\n",
    "    print(e)\n"
   ],
   "outputs": [],
   "metadata": {}
  },
  {
   "cell_type": "code",
   "execution_count": 13,
   "source": [
    "with open(file, encoding = 'utf8') as f:\n",
    "    csvreader = csv.reader(f)\n",
    "    next(csvreader) # skip header\n",
    "    for line in csvreader:\n",
    "        ## Assign the INSERT statements into the `query` variable\n",
    "        query = \"INSERT INTO user_session (userId, sessionId, artist, song, itemInSession, firstName, lastName) \"\n",
    "        query += \" VALUES (%s, %s, %s, %s, %s, %s, %s) \"\n",
    "        session.execute(query, (int(line[USERID_COLUMN]),\n",
    "                                int(line[SESSIONID_COLUMN]),\n",
    "                                line[ARTIST_COLUMN],\n",
    "                                line[SONG_COLUMN],\n",
    "                                int(line[ITEMINSESSION_COLUMN]),\n",
    "                                line[FIRSTNAME_COLUMN],\n",
    "                                line[LASTNAME_COLUMN] ))"
   ],
   "outputs": [],
   "metadata": {}
  },
  {
   "cell_type": "code",
   "execution_count": 14,
   "source": [
    "SELECT_QUERY2 = \"\"\"SELECT artist,\n",
    "                        song,\n",
    "                        firstname,\n",
    "                        lastname\n",
    "                    FROM   user_session\n",
    "                    WHERE  sessionid = 182\n",
    "                        AND userid = 10\"\"\"\n",
    "try:\n",
    "    rows = session.execute(SELECT_QUERY2)\n",
    "except Exception as e:\n",
    "    print(e)\n",
    "\n",
    "for row in rows:\n",
    "    print(row)"
   ],
   "outputs": [
    {
     "output_type": "stream",
     "name": "stdout",
     "text": [
      "Row(artist='Down To The Bone', song=\"Keep On Keepin' On\", firstname='Sylvie', lastname='Cruz')\n",
      "Row(artist='Three Drives', song='Greece 2000', firstname='Sylvie', lastname='Cruz')\n",
      "Row(artist='Sebastien Tellier', song='Kilometer', firstname='Sylvie', lastname='Cruz')\n",
      "Row(artist='Lonnie Gordon', song='Catch You Baby (Steve Pitron & Max Sanna Radio Edit)', firstname='Sylvie', lastname='Cruz')\n"
     ]
    }
   ],
   "metadata": {}
  },
  {
   "cell_type": "code",
   "execution_count": 15,
   "source": [
    "## Query 3: Give me every user name (first and last) in my music app history who listened to the song 'All Hands Against His Own'\n",
    "CREATE_TABLE_QUERY3 = \"\"\"CREATE TABLE IF NOT EXISTS users_song\n",
    "                      (\n",
    "                        song          TEXT,\n",
    "                        userId        INT,\n",
    "                        firstName     TEXT,\n",
    "                        lastName      TEXT,\n",
    "                        PRIMARY KEY ((song), userId)\n",
    "                      ) \"\"\"\n",
    "  \n",
    "try:\n",
    "    session.execute(CREATE_TABLE_QUERY3)\n",
    "except Exception as e:\n",
    "    print(e)                   "
   ],
   "outputs": [],
   "metadata": {}
  },
  {
   "cell_type": "code",
   "execution_count": 16,
   "source": [
    "with open(file, encoding = 'utf8') as f:\n",
    "    csvreader = csv.reader(f)\n",
    "    next(csvreader)\n",
    "    for line in csvreader:\n",
    "        query = \"INSERT INTO users_song (song, userId, firstName, lastName) \"\n",
    "        query += \" VALUES (%s, %s, %s, %s) \"\n",
    "        session.execute(query, (line[SONG_COLUMN],\n",
    "                                int(line[USERID_COLUMN]),\n",
    "                                line[FIRSTNAME_COLUMN],\n",
    "                                line[LASTNAME_COLUMN] ))"
   ],
   "outputs": [],
   "metadata": {}
  },
  {
   "cell_type": "code",
   "execution_count": 17,
   "source": [
    "SELECT_QUERY3 = \"\"\"SELECT firstname,\n",
    "                          lastname\n",
    "                    FROM   users_song\n",
    "                    WHERE  song = 'All Hands Against His Own'\"\"\"\n",
    "try:\n",
    "    rows = session.execute(SELECT_QUERY3)\n",
    "except Exception as e:\n",
    "    print(e)\n",
    "\n",
    "for row in rows:\n",
    "    print(row)"
   ],
   "outputs": [
    {
     "output_type": "stream",
     "name": "stdout",
     "text": [
      "Row(firstname='Jacqueline', lastname='Lynch')\n",
      "Row(firstname='Tegan', lastname='Levine')\n",
      "Row(firstname='Sara', lastname='Johnson')\n"
     ]
    }
   ],
   "metadata": {}
  },
  {
   "cell_type": "markdown",
   "source": [
    "### Drop the tables before closing out the sessions"
   ],
   "metadata": {}
  },
  {
   "cell_type": "code",
   "execution_count": 18,
   "source": [
    "session.execute(f\"DROP TABLE IF EXISTS {CASSANDRA_DB}.session_item\")\n",
    "session.execute(f\"DROP TABLE IF EXISTS {CASSANDRA_DB}.user_session\")\n",
    "session.execute(f\"DROP TABLE IF EXISTS {CASSANDRA_DB}.user_song\")"
   ],
   "outputs": [
    {
     "output_type": "execute_result",
     "data": {
      "text/plain": [
       "<cassandra.cluster.ResultSet at 0x7f7f1c2f6130>"
      ]
     },
     "metadata": {},
     "execution_count": 18
    }
   ],
   "metadata": {}
  },
  {
   "cell_type": "markdown",
   "source": [
    "### Close the session and cluster connection¶"
   ],
   "metadata": {}
  },
  {
   "cell_type": "code",
   "execution_count": 19,
   "source": [
    "session.shutdown()\n",
    "cluster.shutdown()"
   ],
   "outputs": [],
   "metadata": {}
  }
 ],
 "metadata": {
  "kernelspec": {
   "name": "python3",
   "display_name": "Python 3.8.10 64-bit"
  },
  "language_info": {
   "codemirror_mode": {
    "name": "ipython",
    "version": 3
   },
   "file_extension": ".py",
   "mimetype": "text/x-python",
   "name": "python",
   "nbconvert_exporter": "python",
   "pygments_lexer": "ipython3",
   "version": "3.8.10"
  },
  "interpreter": {
   "hash": "916dbcbb3f70747c44a77c7bcd40155683ae19c65e1c03b4aa3499c5328201f1"
  }
 },
 "nbformat": 4,
 "nbformat_minor": 2
}